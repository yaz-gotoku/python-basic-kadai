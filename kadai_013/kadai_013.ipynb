{
  "nbformat": 4,
  "nbformat_minor": 0,
  "metadata": {
    "colab": {
      "provenance": []
    },
    "kernelspec": {
      "name": "python3",
      "display_name": "Python 3"
    },
    "language_info": {
      "name": "python"
    }
  },
  "cells": [
    {
      "cell_type": "code",
      "execution_count": 9,
      "metadata": {
        "colab": {
          "base_uri": "https://localhost:8080/"
        },
        "id": "3X3fsW22FcR3",
        "outputId": "3fad4f49-9483-4f54-ca58-2836dd7348a6"
      },
      "outputs": [
        {
          "output_type": "execute_result",
          "data": {
            "text/plain": [
              "1650.0000000000002"
            ]
          },
          "metadata": {},
          "execution_count": 9
        }
      ],
      "source": [
        "def get_final_price(price:int,tax:float) -> float:\n",
        "  return price * tax\n",
        "\n",
        "get_final_price(1500,1.1)"
      ]
    }
  ]
}