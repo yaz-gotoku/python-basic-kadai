{
  "nbformat": 4,
  "nbformat_minor": 0,
  "metadata": {
    "colab": {
      "provenance": []
    },
    "kernelspec": {
      "name": "python3",
      "display_name": "Python 3"
    },
    "language_info": {
      "name": "python"
    }
  },
  "cells": [
    {
      "cell_type": "code",
      "execution_count": null,
      "metadata": {
        "colab": {
          "base_uri": "https://localhost:8080/"
        },
        "id": "LGeQAyPyaJrn",
        "outputId": "c1188ffa-37f0-4f25-ff09-923e8e1e7a1b"
      },
      "outputs": [
        {
          "output_type": "stream",
          "name": "stdout",
          "text": [
            "太郎は子供です\n",
            "次郎は大人です\n",
            "三子は子供です\n",
            "四子は大人です\n"
          ]
        }
      ],
      "source": [
        "class Human:\n",
        "  def __init__(self,name,age):\n",
        "    self.name = name\n",
        "    self.age= age\n",
        "\n",
        "  def check_adult(self):\n",
        "    if self.age >= 20:\n",
        "      print(f\"{self.name}は大人です\")\n",
        "    else:\n",
        "      print(f\"{self.name}は子供です\")\n",
        "\n",
        "humans_list = [Human(\"太郎\",3),Human(\"次郎\",40),Human(\"三子\",1),Human(\"四子\",70)]\n",
        "\n",
        "\n",
        "for i in humans_list:\n",
        "  i.check_adult()\n",
        "\n"
      ]
    }
  ]
}